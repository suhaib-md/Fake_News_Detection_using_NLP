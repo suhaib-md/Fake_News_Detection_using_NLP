{
  "nbformat": 4,
  "nbformat_minor": 0,
  "metadata": {
    "colab": {
      "provenance": []
    },
    "kernelspec": {
      "name": "python3",
      "display_name": "Python 3"
    },
    "language_info": {
      "name": "python"
    }
  },
  "cells": [
    {
      "cell_type": "markdown",
      "source": [
        "**FAKE NEWS DETECTION USING NLP**"
      ],
      "metadata": {
        "id": "hRPV_o1MVrih"
      }
    },
    {
      "cell_type": "markdown",
      "source": [
        "**STEP 1: IMPORTING THE LIBRARIES**"
      ],
      "metadata": {
        "id": "uCn7uiksV77v"
      }
    },
    {
      "cell_type": "code",
      "execution_count": 14,
      "metadata": {
        "colab": {
          "base_uri": "https://localhost:8080/"
        },
        "id": "RtuvrlukViCh",
        "outputId": "545db680-f529-44e3-b2cb-fd62d0947e15"
      },
      "outputs": [
        {
          "output_type": "stream",
          "name": "stderr",
          "text": [
            "[nltk_data] Downloading package punkt to /root/nltk_data...\n",
            "[nltk_data]   Package punkt is already up-to-date!\n"
          ]
        }
      ],
      "source": [
        "# Import necessary libraries for the project\n",
        "import numpy as np                # NumPy for numerical operations\n",
        "import pandas as pd               # Pandas for data manipulation\n",
        "import matplotlib.pyplot as plt   # Matplotlib for data visualization\n",
        "import seaborn as sns             # Seaborn for enhanced data visualization\n",
        "import nltk                       # Natural Language Toolkit for NLP\n",
        "from nltk.corpus import stopwords # NLTK's stopwords for text preprocessing\n",
        "from sklearn.feature_extraction.text import TfidfVectorizer  # Scikit-learn's TF-IDF vectorizer\n",
        "from sklearn.model_selection import train_test_split        # Scikit-learn for data splitting\n",
        "from sklearn.naive_bayes import MultinomialNB                # Scikit-learn's Naive Bayes classifier\n",
        "from sklearn.metrics import accuracy_score, confusion_matrix, classification_report  # Scikit-learn's metrics\n",
        "nltk.download('punkt')\n",
        "\n"
      ]
    },
    {
      "cell_type": "markdown",
      "source": [
        "**STEP 2: DATA LOADING**"
      ],
      "metadata": {
        "id": "jSIFNCrYWCce"
      }
    },
    {
      "cell_type": "code",
      "source": [
        "# Load the dataset from Kaggle\n",
        "fake_news = pd.read_csv(\"/Fake.csv\")\n",
        "real_news = pd.read_csv(\"/True.csv\")\n"
      ],
      "metadata": {
        "id": "NHMU4dlnWIbL"
      },
      "execution_count": 2,
      "outputs": []
    },
    {
      "cell_type": "markdown",
      "source": [
        "**STEP 3: DATA PREPROCESSING**"
      ],
      "metadata": {
        "id": "6vhkvzTpY2se"
      }
    },
    {
      "cell_type": "code",
      "source": [
        "# Combine the real and fake news datasets\n",
        "fake_news['label'] = 1\n",
        "real_news['label'] = 0\n",
        "data = pd.concat([fake_news, real_news])\n",
        "\n",
        "# Shuffle the data\n",
        "data = data.sample(frac=1).reset_index(drop=True)\n"
      ],
      "metadata": {
        "id": "g7rHkZF3ZCgA"
      },
      "execution_count": 3,
      "outputs": []
    },
    {
      "cell_type": "code",
      "source": [
        "# Text preprocessing\n",
        "nltk.download('stopwords')\n",
        "stop_words = set(stopwords.words('english'))\n",
        "\n",
        "def preprocess_text(text):\n",
        "    # Lowercase the text\n",
        "    text = text.lower()\n",
        "    # Tokenize the text\n",
        "    tokens = nltk.word_tokenize(text)\n",
        "    # Remove stopwords\n",
        "    tokens = [word for word in tokens if word not in stop_words]\n",
        "    # Join the tokens back into a string\n",
        "    text = ' '.join(tokens)\n",
        "    return text\n",
        "\n",
        "data['text'] = data['text'].apply(preprocess_text)\n"
      ],
      "metadata": {
        "colab": {
          "base_uri": "https://localhost:8080/"
        },
        "id": "Sak3Ps4UZCeP",
        "outputId": "d325fb80-8761-48a0-d6cd-8618742ce8e0"
      },
      "execution_count": 6,
      "outputs": [
        {
          "output_type": "stream",
          "name": "stderr",
          "text": [
            "[nltk_data] Downloading package stopwords to /root/nltk_data...\n",
            "[nltk_data]   Package stopwords is already up-to-date!\n"
          ]
        }
      ]
    },
    {
      "cell_type": "code",
      "source": [
        "print(data['text'])"
      ],
      "metadata": {
        "colab": {
          "base_uri": "https://localhost:8080/"
        },
        "id": "SDJO7piPaUl8",
        "outputId": "7d57910f-644e-465e-e18c-d682791becb8"
      },
      "execution_count": 8,
      "outputs": [
        {
          "output_type": "stream",
          "name": "stdout",
          "text": [
            "0        claiming least racist person , donald trump li...\n",
            "1        dunkin donuts american global donut company co...\n",
            "2        london ( reuters ) - britain made substantive ...\n",
            "3        washington ( reuters ) - republican party ’ tw...\n",
            "4        anyone else wondering cop-hating , racist , be...\n",
            "                               ...                        \n",
            "44893    30 years , donald trump built great negotiator...\n",
            "44894    washington ( reuters ) - united states monday ...\n",
            "44895    sarah palin marked return national stage part ...\n",
            "44896    seoul ( reuters ) - south korean president moo...\n",
            "44897    samarkand , uzbekistan ( reuters ) - senior of...\n",
            "Name: text, Length: 44898, dtype: object\n"
          ]
        }
      ]
    },
    {
      "cell_type": "markdown",
      "source": [
        "**STEP 4: FEATURE EXTRACTION**"
      ],
      "metadata": {
        "id": "X6kad8W8abwn"
      }
    },
    {
      "cell_type": "code",
      "source": [
        "# TF-IDF Vectorization\n",
        "tfidf_vectorizer = TfidfVectorizer(max_features=5000)\n",
        "X = tfidf_vectorizer.fit_transform(data['text'])\n",
        "y = data['label']\n"
      ],
      "metadata": {
        "id": "fTHHgQczaYnj"
      },
      "execution_count": 9,
      "outputs": []
    },
    {
      "cell_type": "markdown",
      "source": [
        "**STEP 5: MODEL TRAINING AND EVALUATION**"
      ],
      "metadata": {
        "id": "F687Ky2uaz38"
      }
    },
    {
      "cell_type": "code",
      "source": [
        "# Split the data into training and testing sets\n",
        "X_train, X_test, y_train, y_test = train_test_split(X, y, test_size=0.2, random_state=42)\n",
        "\n",
        "# Train a classification model (Naive Bayes)\n",
        "clf = MultinomialNB()\n",
        "clf.fit(X_train, y_train)\n",
        "\n",
        "# Make predictions\n",
        "y_pred = clf.predict(X_test)\n",
        "\n",
        "# Evaluate the model\n",
        "accuracy = accuracy_score(y_test, y_pred)\n",
        "confusion = confusion_matrix(y_test, y_pred)\n",
        "classification_rep = classification_report(y_test, y_pred)\n",
        "\n",
        "print(\"Accuracy:\", accuracy)\n",
        "print(\"Confusion Matrix:\\n\", confusion)\n",
        "print(\"Classification Report:\\n\", classification_rep)\n"
      ],
      "metadata": {
        "colab": {
          "base_uri": "https://localhost:8080/"
        },
        "id": "-OFoq9PYa5TU",
        "outputId": "f3140171-8e6d-4ac2-9d36-f37e37729114"
      },
      "execution_count": 12,
      "outputs": [
        {
          "output_type": "stream",
          "name": "stdout",
          "text": [
            "Accuracy: 0.9359688195991092\n",
            "Confusion Matrix:\n",
            " [[3983  301]\n",
            " [ 274 4422]]\n",
            "Classification Report:\n",
            "               precision    recall  f1-score   support\n",
            "\n",
            "           0       0.94      0.93      0.93      4284\n",
            "           1       0.94      0.94      0.94      4696\n",
            "\n",
            "    accuracy                           0.94      8980\n",
            "   macro avg       0.94      0.94      0.94      8980\n",
            "weighted avg       0.94      0.94      0.94      8980\n",
            "\n"
          ]
        }
      ]
    },
    {
      "cell_type": "markdown",
      "source": [
        "**LOGISTIC REGRESSION AND NEURAL NETWORKS**"
      ],
      "metadata": {
        "id": "TGpOKbHFkHHW"
      }
    },
    {
      "cell_type": "code",
      "source": [
        "import pandas as pd\n",
        "from sklearn.feature_extraction.text import TfidfVectorizer\n",
        "from sklearn.model_selection import train_test_split\n",
        "from sklearn.metrics import accuracy_score, precision_score, recall_score, f1_score, roc_auc_score\n",
        "from sklearn.linear_model import LogisticRegression\n",
        "from tensorflow.keras.preprocessing.text import Tokenizer\n",
        "from tensorflow.keras.preprocessing.sequence import pad_sequences\n",
        "from tensorflow.keras.models import Sequential\n",
        "from tensorflow.keras.layers import Embedding, LSTM, Dense\n"
      ],
      "metadata": {
        "id": "TOygjgQ5i5r5"
      },
      "execution_count": 19,
      "outputs": []
    },
    {
      "cell_type": "code",
      "source": [
        "# Load the dataset from Kaggle\n",
        "fake_data = pd.read_csv(\"/Fake.csv\")\n",
        "true_data = pd.read_csv(\"/True.csv\")"
      ],
      "metadata": {
        "id": "n0lHbOHskitC"
      },
      "execution_count": 23,
      "outputs": []
    },
    {
      "cell_type": "code",
      "source": [
        "fake_data['label'] = 0  # 0 for fake news\n",
        "true_data['label'] = 1  # 1 for true news\n",
        "combined_data = pd.concat([fake_data, true_data], ignore_index=True)\n",
        "combined_data['text'] = combined_data['title'] + \" \" + combined_data['text']\n"
      ],
      "metadata": {
        "id": "Wgy-8_4Qkzvz"
      },
      "execution_count": 24,
      "outputs": []
    },
    {
      "cell_type": "code",
      "source": [
        "tfidf_vectorizer = TfidfVectorizer(max_features=5000)\n",
        "tfidf_matrix = tfidf_vectorizer.fit_transform(combined_data['text'])\n"
      ],
      "metadata": {
        "id": "viG8fWn4lS-Q"
      },
      "execution_count": 25,
      "outputs": []
    },
    {
      "cell_type": "code",
      "source": [
        "X_train, X_test, y_train, y_test = train_test_split(tfidf_matrix, combined_data['label'], test_size=0.2, random_state=42)\n"
      ],
      "metadata": {
        "id": "UqNj6X9ZlgrO"
      },
      "execution_count": 26,
      "outputs": []
    },
    {
      "cell_type": "code",
      "source": [
        "# Logistic Regression Model\n",
        "logistic_regression_model = LogisticRegression()\n",
        "logistic_regression_model.fit(X_train, y_train)\n"
      ],
      "metadata": {
        "colab": {
          "base_uri": "https://localhost:8080/",
          "height": 74
        },
        "id": "7nwhG9SPioeq",
        "outputId": "f1c799dc-9072-48b4-d378-58029189a236"
      },
      "execution_count": 27,
      "outputs": [
        {
          "output_type": "execute_result",
          "data": {
            "text/plain": [
              "LogisticRegression()"
            ],
            "text/html": [
              "<style>#sk-container-id-2 {color: black;background-color: white;}#sk-container-id-2 pre{padding: 0;}#sk-container-id-2 div.sk-toggleable {background-color: white;}#sk-container-id-2 label.sk-toggleable__label {cursor: pointer;display: block;width: 100%;margin-bottom: 0;padding: 0.3em;box-sizing: border-box;text-align: center;}#sk-container-id-2 label.sk-toggleable__label-arrow:before {content: \"▸\";float: left;margin-right: 0.25em;color: #696969;}#sk-container-id-2 label.sk-toggleable__label-arrow:hover:before {color: black;}#sk-container-id-2 div.sk-estimator:hover label.sk-toggleable__label-arrow:before {color: black;}#sk-container-id-2 div.sk-toggleable__content {max-height: 0;max-width: 0;overflow: hidden;text-align: left;background-color: #f0f8ff;}#sk-container-id-2 div.sk-toggleable__content pre {margin: 0.2em;color: black;border-radius: 0.25em;background-color: #f0f8ff;}#sk-container-id-2 input.sk-toggleable__control:checked~div.sk-toggleable__content {max-height: 200px;max-width: 100%;overflow: auto;}#sk-container-id-2 input.sk-toggleable__control:checked~label.sk-toggleable__label-arrow:before {content: \"▾\";}#sk-container-id-2 div.sk-estimator input.sk-toggleable__control:checked~label.sk-toggleable__label {background-color: #d4ebff;}#sk-container-id-2 div.sk-label input.sk-toggleable__control:checked~label.sk-toggleable__label {background-color: #d4ebff;}#sk-container-id-2 input.sk-hidden--visually {border: 0;clip: rect(1px 1px 1px 1px);clip: rect(1px, 1px, 1px, 1px);height: 1px;margin: -1px;overflow: hidden;padding: 0;position: absolute;width: 1px;}#sk-container-id-2 div.sk-estimator {font-family: monospace;background-color: #f0f8ff;border: 1px dotted black;border-radius: 0.25em;box-sizing: border-box;margin-bottom: 0.5em;}#sk-container-id-2 div.sk-estimator:hover {background-color: #d4ebff;}#sk-container-id-2 div.sk-parallel-item::after {content: \"\";width: 100%;border-bottom: 1px solid gray;flex-grow: 1;}#sk-container-id-2 div.sk-label:hover label.sk-toggleable__label {background-color: #d4ebff;}#sk-container-id-2 div.sk-serial::before {content: \"\";position: absolute;border-left: 1px solid gray;box-sizing: border-box;top: 0;bottom: 0;left: 50%;z-index: 0;}#sk-container-id-2 div.sk-serial {display: flex;flex-direction: column;align-items: center;background-color: white;padding-right: 0.2em;padding-left: 0.2em;position: relative;}#sk-container-id-2 div.sk-item {position: relative;z-index: 1;}#sk-container-id-2 div.sk-parallel {display: flex;align-items: stretch;justify-content: center;background-color: white;position: relative;}#sk-container-id-2 div.sk-item::before, #sk-container-id-2 div.sk-parallel-item::before {content: \"\";position: absolute;border-left: 1px solid gray;box-sizing: border-box;top: 0;bottom: 0;left: 50%;z-index: -1;}#sk-container-id-2 div.sk-parallel-item {display: flex;flex-direction: column;z-index: 1;position: relative;background-color: white;}#sk-container-id-2 div.sk-parallel-item:first-child::after {align-self: flex-end;width: 50%;}#sk-container-id-2 div.sk-parallel-item:last-child::after {align-self: flex-start;width: 50%;}#sk-container-id-2 div.sk-parallel-item:only-child::after {width: 0;}#sk-container-id-2 div.sk-dashed-wrapped {border: 1px dashed gray;margin: 0 0.4em 0.5em 0.4em;box-sizing: border-box;padding-bottom: 0.4em;background-color: white;}#sk-container-id-2 div.sk-label label {font-family: monospace;font-weight: bold;display: inline-block;line-height: 1.2em;}#sk-container-id-2 div.sk-label-container {text-align: center;}#sk-container-id-2 div.sk-container {/* jupyter's `normalize.less` sets `[hidden] { display: none; }` but bootstrap.min.css set `[hidden] { display: none !important; }` so we also need the `!important` here to be able to override the default hidden behavior on the sphinx rendered scikit-learn.org. See: https://github.com/scikit-learn/scikit-learn/issues/21755 */display: inline-block !important;position: relative;}#sk-container-id-2 div.sk-text-repr-fallback {display: none;}</style><div id=\"sk-container-id-2\" class=\"sk-top-container\"><div class=\"sk-text-repr-fallback\"><pre>LogisticRegression()</pre><b>In a Jupyter environment, please rerun this cell to show the HTML representation or trust the notebook. <br />On GitHub, the HTML representation is unable to render, please try loading this page with nbviewer.org.</b></div><div class=\"sk-container\" hidden><div class=\"sk-item\"><div class=\"sk-estimator sk-toggleable\"><input class=\"sk-toggleable__control sk-hidden--visually\" id=\"sk-estimator-id-2\" type=\"checkbox\" checked><label for=\"sk-estimator-id-2\" class=\"sk-toggleable__label sk-toggleable__label-arrow\">LogisticRegression</label><div class=\"sk-toggleable__content\"><pre>LogisticRegression()</pre></div></div></div></div></div>"
            ]
          },
          "metadata": {},
          "execution_count": 27
        }
      ]
    },
    {
      "cell_type": "code",
      "source": [
        "# Model Training (Neural Network)\n",
        "tokenizer = Tokenizer(num_words=5000)\n",
        "tokenizer.fit_on_texts(combined_data['text'])\n",
        "X_train_nn = tokenizer.texts_to_sequences(combined_data['text'])\n",
        "X_train_nn = pad_sequences(X_train_nn, maxlen=100)\n",
        "\n",
        "model = Sequential()\n",
        "model.add(Embedding(input_dim=5000, output_dim=128, input_length=100))\n",
        "model.add(LSTM(128))\n",
        "model.add(Dense(1, activation='sigmoid'))\n",
        "model.compile(loss='binary_crossentropy', optimizer='adam', metrics=['accuracy'])\n",
        "\n",
        "model.fit(X_train_nn, combined_data['label'], epochs=5, batch_size=64)"
      ],
      "metadata": {
        "colab": {
          "base_uri": "https://localhost:8080/"
        },
        "id": "bL5289qyjZez",
        "outputId": "cf2f91d7-aba5-4f46-cb71-ccf496deacbc"
      },
      "execution_count": 28,
      "outputs": [
        {
          "output_type": "stream",
          "name": "stdout",
          "text": [
            "Epoch 1/5\n",
            "702/702 [==============================] - 182s 255ms/step - loss: 0.0878 - accuracy: 0.9693\n",
            "Epoch 2/5\n",
            "702/702 [==============================] - 169s 241ms/step - loss: 0.0310 - accuracy: 0.9907\n",
            "Epoch 3/5\n",
            "702/702 [==============================] - 167s 238ms/step - loss: 0.0158 - accuracy: 0.9949\n",
            "Epoch 4/5\n",
            "702/702 [==============================] - 171s 243ms/step - loss: 0.0103 - accuracy: 0.9969\n",
            "Epoch 5/5\n",
            "702/702 [==============================] - 169s 240ms/step - loss: 0.0083 - accuracy: 0.9973\n"
          ]
        },
        {
          "output_type": "execute_result",
          "data": {
            "text/plain": [
              "<keras.src.callbacks.History at 0x7d786af8b700>"
            ]
          },
          "metadata": {},
          "execution_count": 28
        }
      ]
    },
    {
      "cell_type": "code",
      "source": [
        "y_pred = logistic_regression_model.predict(X_test)\n",
        "accuracy = accuracy_score(y_test, y_pred)\n",
        "precision = precision_score(y_test, y_pred)\n",
        "recall = recall_score(y_test, y_pred)\n",
        "f1 = f1_score(y_test, y_pred)\n",
        "roc_auc = roc_auc_score(y_test, y_pred)\n"
      ],
      "metadata": {
        "id": "yd2P4VbzmIp4"
      },
      "execution_count": 29,
      "outputs": []
    },
    {
      "cell_type": "code",
      "source": [
        "print(f\"Logistic Regression Accuracy: {accuracy}\")\n",
        "print(f\"Logistic Regression Precision: {precision}\")\n",
        "print(f\"Logistic Regression Recall: {recall}\")\n",
        "print(f\"Logistic Regression F1-Score: {f1}\")\n",
        "print(f\"Logistic Regression ROC-AUC: {roc_auc}\")\n"
      ],
      "metadata": {
        "colab": {
          "base_uri": "https://localhost:8080/"
        },
        "id": "N_gIDjKYp21x",
        "outputId": "e2963ed1-7ba0-4362-d786-6b805a6dce84"
      },
      "execution_count": 31,
      "outputs": [
        {
          "output_type": "stream",
          "name": "stdout",
          "text": [
            "Logistic Regression Accuracy: 0.9979286193847656\n",
            "Logistic Regression Precision: 0.9866008462623413\n",
            "Logistic Regression Recall: 0.9882269837532376\n",
            "Logistic Regression F1-Score: 0.9874132455005294\n",
            "Logistic Regression ROC-AUC: 0.9880919410631812\n"
          ]
        }
      ]
    },
    {
      "cell_type": "code",
      "source": [
        "X_test_nn = tokenizer.texts_to_sequences(combined_data['text'])\n",
        "X_test_nn = pad_sequences(X_test_nn, maxlen=100)\n",
        "\n",
        "loss, accuracy = model.evaluate(X_test_nn, combined_data['label'])\n"
      ],
      "metadata": {
        "colab": {
          "base_uri": "https://localhost:8080/"
        },
        "id": "4KRv9MVymJpH",
        "outputId": "c2d159a7-7380-4bce-e3b7-eea1121a1241"
      },
      "execution_count": 30,
      "outputs": [
        {
          "output_type": "stream",
          "name": "stdout",
          "text": [
            "1404/1404 [==============================] - 96s 68ms/step - loss: 0.0064 - accuracy: 0.9979\n"
          ]
        }
      ]
    },
    {
      "cell_type": "code",
      "source": [
        "print(f\"Neural Network Accuracy: {accuracy}\")\n"
      ],
      "metadata": {
        "colab": {
          "base_uri": "https://localhost:8080/"
        },
        "id": "ML_cjumFp4vO",
        "outputId": "f1bcae15-0af8-4e32-c052-8a7a25b3aad1"
      },
      "execution_count": 32,
      "outputs": [
        {
          "output_type": "stream",
          "name": "stdout",
          "text": [
            "Neural Network Accuracy: 0.9979286193847656\n"
          ]
        }
      ]
    }
  ]
}