{
  "nbformat": 4,
  "nbformat_minor": 0,
  "metadata": {
    "colab": {
      "provenance": []
    },
    "kernelspec": {
      "name": "python3",
      "display_name": "Python 3"
    },
    "language_info": {
      "name": "python"
    }
  },
  "cells": [
    {
      "cell_type": "code",
      "execution_count": 4,
      "metadata": {
        "colab": {
          "base_uri": "https://localhost:8080/"
        },
        "id": "VQxGLe3LQ3BY",
        "outputId": "039b8d8d-4408-46ea-ba6e-2db36eaf4ed7"
      },
      "outputs": [
        {
          "output_type": "stream",
          "name": "stdout",
          "text": [
            "Epoch 1/5\n",
            "708/708 [==============================] - 149s 208ms/step - loss: 0.0874 - accuracy: 0.9681\n",
            "Epoch 2/5\n",
            "708/708 [==============================] - 146s 205ms/step - loss: 0.0288 - accuracy: 0.9910\n",
            "Epoch 3/5\n",
            "708/708 [==============================] - 147s 207ms/step - loss: 0.0154 - accuracy: 0.9954\n",
            "Epoch 4/5\n",
            "708/708 [==============================] - 146s 206ms/step - loss: 0.0132 - accuracy: 0.9959\n",
            "Epoch 5/5\n",
            "708/708 [==============================] - 144s 204ms/step - loss: 0.0096 - accuracy: 0.9968\n",
            "Logistic Regression Accuracy: 0.9904005296259517\n",
            "Logistic Regression Precision: 0.9897377423033067\n",
            "Logistic Regression Recall: 0.9904153354632588\n",
            "Logistic Regression F1-Score: 0.9900764229496977\n",
            "Logistic Regression ROC-AUC: 0.9904010024891599\n",
            "1416/1416 [==============================] - 75s 52ms/step - loss: 0.0175 - accuracy: 0.9948\n",
            "Neural Network Accuracy: 0.9948357939720154\n"
          ]
        }
      ],
      "source": [
        "import pandas as pd\n",
        "from sklearn.feature_extraction.text import TfidfVectorizer\n",
        "from sklearn.model_selection import train_test_split\n",
        "from sklearn.metrics import accuracy_score, precision_score, recall_score, f1_score, roc_auc_score\n",
        "from sklearn.linear_model import LogisticRegression\n",
        "from tensorflow.keras.preprocessing.text import Tokenizer\n",
        "from tensorflow.keras.preprocessing.sequence import pad_sequences\n",
        "from tensorflow.keras.models import Sequential\n",
        "from tensorflow.keras.layers import Embedding, LSTM, Dense\n",
        "\n",
        "# Load the dataset from Kaggle\n",
        "fake_data = pd.read_csv(\"/content/Fake.csv\")\n",
        "true_data = pd.read_csv(\"/content/True.csv\")\n",
        "\n",
        "fake_data['label'] = 0  # 0 for fake news\n",
        "true_data['label'] = 1  # 1 for true news\n",
        "combined_data = pd.concat([fake_data, true_data], ignore_index=True)\n",
        "combined_data['text'] = combined_data['title'] + \" \" + combined_data['text']\n",
        "\n",
        "tfidf_vectorizer = TfidfVectorizer(max_features=5000)\n",
        "tfidf_matrix = tfidf_vectorizer.fit_transform(combined_data['text'])\n",
        "\n",
        "X_train, X_test, y_train, y_test = train_test_split(tfidf_matrix, combined_data['label'], test_size=0.2, random_state=42)\n",
        "\n",
        "# Logistic Regression Model\n",
        "logistic_regression_model = LogisticRegression()\n",
        "logistic_regression_model.fit(X_train, y_train)\n",
        "\n",
        "# Model Training (Neural Network)\n",
        "tokenizer = Tokenizer(num_words=5000)\n",
        "tokenizer.fit_on_texts(combined_data['text'])\n",
        "X_train_nn = tokenizer.texts_to_sequences(combined_data['text'])\n",
        "X_train_nn = pad_sequences(X_train_nn, maxlen=100)\n",
        "\n",
        "model = Sequential()\n",
        "model.add(Embedding(input_dim=5000, output_dim=128, input_length=100))\n",
        "model.add(LSTM(128))\n",
        "model.add(Dense(1, activation='sigmoid'))\n",
        "model.compile(loss='binary_crossentropy', optimizer='adam', metrics=['accuracy'])\n",
        "\n",
        "model.fit(X_train_nn, combined_data['label'], epochs=5, batch_size=64)\n",
        "\n",
        "# Evaluation for Logistic Regression\n",
        "y_pred = logistic_regression_model.predict(X_test)\n",
        "accuracy = accuracy_score(y_test, y_pred)\n",
        "precision = precision_score(y_test, y_pred)\n",
        "recall = recall_score(y_test, y_pred)\n",
        "f1 = f1_score(y_test, y_pred)\n",
        "roc_auc = roc_auc_score(y_test, y_pred)\n",
        "\n",
        "print(f\"Logistic Regression Accuracy: {accuracy}\")\n",
        "print(f\"Logistic Regression Precision: {precision}\")\n",
        "print(f\"Logistic Regression Recall: {recall}\")\n",
        "print(f\"Logistic Regression F1-Score: {f1}\")\n",
        "print(f\"Logistic Regression ROC-AUC: {roc_auc}\")\n",
        "\n",
        "# Evaluation for Neural Network\n",
        "X_test_nn = tokenizer.texts_to_sequences(combined_data['text'])\n",
        "X_test_nn = pad_sequences(X_test_nn, maxlen=100)\n",
        "\n",
        "loss, accuracy = model.evaluate(X_test_nn, combined_data['label'])\n",
        "\n",
        "print(f\"Neural Network Accuracy: {accuracy}\")\n"
      ]
    }
  ]
}